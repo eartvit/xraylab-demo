{
 "cells": [
  {
   "cell_type": "code",
   "execution_count": 1,
   "id": "1bf9637f-5522-4d47-9e3a-b6a08bff17a4",
   "metadata": {
    "tags": []
   },
   "outputs": [],
   "source": [
    "import torch\n",
    "import torch.nn as nn\n",
    "import torch.nn.functional as F\n",
    "from torch.utils.data import DataLoader\n",
    "from torchvision import datasets, transforms\n",
    "\n",
    "import os\n",
    "import numpy as np\n",
    "import pandas as pd\n",
    "\n",
    "import matplotlib.pyplot as plt\n",
    "%matplotlib inline"
   ]
  },
  {
   "cell_type": "code",
   "execution_count": 2,
   "id": "146d0d5d-3b51-46c0-adb0-1192d4658773",
   "metadata": {
    "tags": []
   },
   "outputs": [],
   "source": [
    "from PIL import Image\n",
    "\n",
    "# Filter harmless warnings\n",
    "import warnings\n",
    "warnings.filterwarnings(\"ignore\")"
   ]
  },
  {
   "cell_type": "code",
   "execution_count": 3,
   "id": "81cca631-0736-4239-a940-d5c37dad3de9",
   "metadata": {
    "tags": []
   },
   "outputs": [],
   "source": [
    "# the internal service endpoint must be completed with the model inference point in the format /v2/models/<model_name>/infer\n",
    "ml_endpoint = 'http://modelmesh-serving.test:8008/v2/models/xraydemo/infer'"
   ]
  },
  {
   "cell_type": "code",
   "execution_count": 4,
   "id": "c03a2306-b7c1-4f08-97c1-f43d0d0d1f35",
   "metadata": {
    "tags": []
   },
   "outputs": [],
   "source": [
    "headers = {\n",
    "    'content-type': 'application/json'\n",
    "} "
   ]
  },
  {
   "cell_type": "code",
   "execution_count": 5,
   "id": "71ea04f3-cd9a-4cf5-9cb1-719e499ff0e7",
   "metadata": {
    "tags": []
   },
   "outputs": [],
   "source": [
    "test_transform = transforms.Compose([\n",
    "    transforms.Resize(150),\n",
    "    transforms.CenterCrop(150),\n",
    "    transforms.ToTensor(),\n",
    "    transforms.Normalize(\n",
    "        mean = [0.485, 0.456, 0.406],\n",
    "        std = [0.229, 0.224, 0.225]\n",
    "#        mean = [0.5, 0.5, 0.5],\n",
    "#        std = [0.5, 0.5, 0.5]\n",
    "    )\n",
    "])"
   ]
  },
  {
   "cell_type": "code",
   "execution_count": 6,
   "id": "61a70a37-a7fd-4c75-ab71-c8e53879183a",
   "metadata": {
    "tags": []
   },
   "outputs": [],
   "source": [
    "file_name = './demo_Adam Lomboy_2523_1966-08-19_2016-03-18.jpeg'"
   ]
  },
  {
   "cell_type": "code",
   "execution_count": 7,
   "id": "c8e6ffbf-9383-46b1-8dc5-c7181da00ba2",
   "metadata": {
    "tags": []
   },
   "outputs": [],
   "source": [
    "img = Image.open(file_name)"
   ]
  },
  {
   "cell_type": "code",
   "execution_count": 8,
   "id": "fb36c6e8-2741-44ef-9731-119c1ce6efa0",
   "metadata": {
    "tags": []
   },
   "outputs": [],
   "source": [
    "# we need 3 channels for the \n",
    "img_conv=img.convert(mode=\"RGB\")"
   ]
  },
  {
   "cell_type": "code",
   "execution_count": 9,
   "id": "12761530-32b8-4cd5-8347-4008bc00d8f2",
   "metadata": {
    "tags": []
   },
   "outputs": [],
   "source": [
    "img_tensor_conv = test_transform(img_conv)"
   ]
  },
  {
   "cell_type": "code",
   "execution_count": 10,
   "id": "0fdad962-70e5-4478-903f-f499f833e12d",
   "metadata": {
    "tags": []
   },
   "outputs": [],
   "source": [
    "# expand the tensor with one more dimension that stands in for the batch\n",
    "img_tensor_conv = torch.unsqueeze(img_tensor_conv, 0)"
   ]
  },
  {
   "cell_type": "code",
   "execution_count": 11,
   "id": "1bbc59a0-c852-4472-874a-d9e368e30dd3",
   "metadata": {
    "tags": []
   },
   "outputs": [
    {
     "data": {
      "text/plain": [
       "torch.Size([1, 3, 150, 150])"
      ]
     },
     "execution_count": 11,
     "metadata": {},
     "output_type": "execute_result"
    }
   ],
   "source": [
    "img_tensor_conv.shape"
   ]
  },
  {
   "cell_type": "code",
   "execution_count": 12,
   "id": "9bd6073f-7f2b-4701-9dd6-222a8595fa10",
   "metadata": {
    "tags": []
   },
   "outputs": [],
   "source": [
    "img_array = img_tensor_conv.tolist()"
   ]
  },
  {
   "cell_type": "code",
   "execution_count": 13,
   "id": "6f90f496-7748-45ac-b166-af6f22f77e7a",
   "metadata": {
    "tags": []
   },
   "outputs": [],
   "source": [
    "message = {\n",
    "    \"inputs\":[\n",
    "        {\n",
    "            \"name\":\"input.1\",\n",
    "            \"shape\":[\n",
    "                1,\n",
    "                3,\n",
    "                150,\n",
    "                150\n",
    "            ],\n",
    "            \"datatype\":\"FP32\",\n",
    "            \"data\": img_array\n",
    "        }\n",
    "    ]        \n",
    "}"
   ]
  },
  {
   "cell_type": "code",
   "execution_count": 14,
   "id": "c4c4a3d2-76f1-4450-a756-b10f2f402fe0",
   "metadata": {
    "tags": []
   },
   "outputs": [],
   "source": [
    "import requests"
   ]
  },
  {
   "cell_type": "code",
   "execution_count": 15,
   "id": "df925cae-c0bc-4e08-89e2-ad01b0bf4cda",
   "metadata": {
    "tags": []
   },
   "outputs": [],
   "source": [
    "resp = requests.post(url=ml_endpoint, json=message, headers=headers)"
   ]
  },
  {
   "cell_type": "code",
   "execution_count": 16,
   "id": "fac2f8e0-f3c4-4528-8287-db1f01df5ab3",
   "metadata": {
    "tags": []
   },
   "outputs": [
    {
     "data": {
      "text/plain": [
       "{'model_name': 'xraydemo__isvc-55544ff705',\n",
       " 'model_version': '1',\n",
       " 'outputs': [{'name': '25',\n",
       "   'datatype': 'FP32',\n",
       "   'shape': [1, 2],\n",
       "   'data': [-7.273074, 6.676987]}]}"
      ]
     },
     "execution_count": 16,
     "metadata": {},
     "output_type": "execute_result"
    }
   ],
   "source": [
    "resp.json()"
   ]
  },
  {
   "cell_type": "code",
   "execution_count": 17,
   "id": "7ef18cae-af75-4e33-931e-3690b241fae9",
   "metadata": {
    "tags": []
   },
   "outputs": [],
   "source": [
    "# reshape the output data to a 1,2 numpy array\n",
    "pred = np.array(resp.json()['outputs'][0]['data']).reshape(1,-1)"
   ]
  },
  {
   "cell_type": "code",
   "execution_count": 18,
   "id": "e4b1c052-83f4-4d5f-94c7-a37a3244c1ae",
   "metadata": {
    "tags": []
   },
   "outputs": [],
   "source": [
    "# convert to torch tensor and get the indices of the prediction class\n",
    "t_pred = torch.from_numpy(pred)\n",
    "predicted = torch.max(t_pred.data, 1)[1]"
   ]
  },
  {
   "cell_type": "code",
   "execution_count": 20,
   "id": "2166605f-6168-4220-a1fb-832adbfcfe2d",
   "metadata": {
    "tags": []
   },
   "outputs": [],
   "source": [
    "classes = ['NORMAL', 'PNEUMONIA']"
   ]
  },
  {
   "cell_type": "code",
   "execution_count": 21,
   "id": "b1806aa5-1ebe-4b9d-ae65-0386ea281254",
   "metadata": {
    "tags": []
   },
   "outputs": [
    {
     "data": {
      "text/plain": [
       "'PNEUMONIA'"
      ]
     },
     "execution_count": 21,
     "metadata": {},
     "output_type": "execute_result"
    }
   ],
   "source": [
    "# display the prediction class\n",
    "classes[predicted.item()]"
   ]
  },
  {
   "cell_type": "code",
   "execution_count": null,
   "id": "339c7dae-7b7a-4b34-b738-83f810af825f",
   "metadata": {},
   "outputs": [],
   "source": []
  }
 ],
 "metadata": {
  "kernelspec": {
   "display_name": "Python 3.9",
   "language": "python",
   "name": "python3"
  },
  "language_info": {
   "codemirror_mode": {
    "name": "ipython",
    "version": 3
   },
   "file_extension": ".py",
   "mimetype": "text/x-python",
   "name": "python",
   "nbconvert_exporter": "python",
   "pygments_lexer": "ipython3",
   "version": "3.9.18"
  }
 },
 "nbformat": 4,
 "nbformat_minor": 5
}
